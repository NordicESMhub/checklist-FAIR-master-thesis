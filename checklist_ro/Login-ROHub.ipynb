{
 "cells": [
  {
   "cell_type": "markdown",
   "id": "d0658a85-bc5f-465e-8d17-4e28f90223b1",
   "metadata": {},
   "source": [
    "# Learn to login to ROHub within your Jupyter Notebook and  ROHub-API Python package"
   ]
  },
  {
   "cell_type": "markdown",
   "id": "d2bc0360-2c44-4e85-9c1c-d065a16d2d31",
   "metadata": {},
   "source": [
    ":::{eval-rst}\n",
    ":opticon:`tag`\n",
    ":badge:`FAIR-checklist`\n",
    ":badge:`training`\n",
    ":::\n",
    "\n",
    "[![RoHub - FAIR Executable Research Object](https://img.shields.io/badge/RoHub-FAIR_Service_Centric_Research_Object-2ea44f?logo=Open+Access&logoColor=blue)](https://w3id.org/ro-id/778cc738-23d4-42f5-aa5c-2b2b9e3c51dc)\n",
    "\n",
    "Watch the [Youtube video to Learn to login to ROHub within your Jupyter Notebook and ROHub-API Python package](https://youtu.be/OqjyI-gYcAg )."
   ]
  },
  {
   "cell_type": "markdown",
   "id": "28074584-f264-4ac3-bc42-60ff342d0632",
   "metadata": {},
   "source": [
    "## Install ROHub-api "
   ]
  },
  {
   "cell_type": "code",
   "execution_count": 1,
   "id": "9a2dd7b9-eca9-43b9-a801-99fa642de20c",
   "metadata": {},
   "outputs": [
    {
     "name": "stdout",
     "output_type": "stream",
     "text": [
      "Requirement already satisfied: rohub in /opt/conda/lib/python3.8/site-packages (1.0.4)\n",
      "Requirement already satisfied: pandas in /opt/conda/lib/python3.8/site-packages (from rohub) (1.2.4)\n",
      "Requirement already satisfied: requests in /opt/conda/lib/python3.8/site-packages (from rohub) (2.25.1)\n",
      "Requirement already satisfied: python-dateutil>=2.7.3 in /opt/conda/lib/python3.8/site-packages (from pandas->rohub) (2.8.1)\n",
      "Requirement already satisfied: pytz>=2017.3 in /opt/conda/lib/python3.8/site-packages (from pandas->rohub) (2021.1)\n",
      "Requirement already satisfied: numpy>=1.16.5 in /opt/conda/lib/python3.8/site-packages (from pandas->rohub) (1.19.5)\n",
      "Requirement already satisfied: six>=1.5 in /opt/conda/lib/python3.8/site-packages (from python-dateutil>=2.7.3->pandas->rohub) (1.15.0)\n",
      "Requirement already satisfied: chardet<5,>=3.0.2 in /opt/conda/lib/python3.8/site-packages (from requests->rohub) (4.0.0)\n",
      "Requirement already satisfied: idna<3,>=2.5 in /opt/conda/lib/python3.8/site-packages (from requests->rohub) (2.10)\n",
      "Requirement already satisfied: urllib3<1.27,>=1.21.1 in /opt/conda/lib/python3.8/site-packages (from requests->rohub) (1.26.4)\n",
      "Requirement already satisfied: certifi>=2017.4.17 in /opt/conda/lib/python3.8/site-packages (from requests->rohub) (2021.10.8)\n",
      "Note: you may need to restart the kernel to use updated packages.\n"
     ]
    }
   ],
   "source": [
    "pip install rohub"
   ]
  },
  {
   "cell_type": "markdown",
   "id": "45e03067-7ce4-400d-a1ef-e31f78210dab",
   "metadata": {},
   "source": [
    "## Import Python packages needed to login to ROHub"
   ]
  },
  {
   "cell_type": "code",
   "execution_count": 2,
   "id": "b1e80a31-9f9e-4224-a523-fa88c0ac2f6d",
   "metadata": {},
   "outputs": [],
   "source": [
    "import rohub\n",
    "import os"
   ]
  },
  {
   "cell_type": "markdown",
   "id": "8773d52a-cb86-4d99-999b-1944df745cee",
   "metadata": {},
   "source": [
    "## Authenticate to ROHub\n",
    "\n",
    "- Make sure you have created a login and password for your ROHub account (go to \"Account Setting\")\n",
    "- Create two files e.g. rohub-user and rohub-pwd in your HOME area to store your rohub username and password"
   ]
  },
  {
   "cell_type": "code",
   "execution_count": 3,
   "id": "0bd5514c-d883-42b1-b551-64d34b4b09a4",
   "metadata": {},
   "outputs": [],
   "source": [
    "rohub_user = open(os.path.join(os.environ['HOME'],\"rohub-user\")).read().rstrip()\n",
    "rohub_pwd = open(os.path.join(os.environ['HOME'],\"rohub-pwd\")).read().rstrip()"
   ]
  },
  {
   "cell_type": "code",
   "execution_count": 4,
   "id": "0d759665-ca38-4164-8fbb-c97088efe25d",
   "metadata": {},
   "outputs": [
    {
     "name": "stdout",
     "output_type": "stream",
     "text": [
      "Logged successfully as annefou@geo.uio.no.\n"
     ]
    }
   ],
   "source": [
    "rohub.login(username=rohub_user, password=rohub_pwd)"
   ]
  },
  {
   "cell_type": "code",
   "execution_count": null,
   "id": "285effd7-521b-4584-846b-88152fe8348a",
   "metadata": {},
   "outputs": [],
   "source": []
  }
 ],
 "metadata": {
  "kernelspec": {
   "display_name": "Python 3",
   "language": "python",
   "name": "python3"
  },
  "language_info": {
   "codemirror_mode": {
    "name": "ipython",
    "version": 3
   },
   "file_extension": ".py",
   "mimetype": "text/x-python",
   "name": "python",
   "nbconvert_exporter": "python",
   "pygments_lexer": "ipython3",
   "version": "3.8.8"
  }
 },
 "nbformat": 4,
 "nbformat_minor": 5
}
