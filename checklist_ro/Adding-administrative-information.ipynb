{
 "cells": [
  {
   "cell_type": "markdown",
   "id": "d0658a85-bc5f-465e-8d17-4e28f90223b1",
   "metadata": {},
   "source": [
    "# Adding all the administrative information relative to your Research Object"
   ]
  },
  {
   "cell_type": "markdown",
   "id": "d2bc0360-2c44-4e85-9c1c-d065a16d2d31",
   "metadata": {},
   "source": [
    ":::{eval-rst}\n",
    ":opticon:`tag`\n",
    ":badge:`FAIR-checklist`\n",
    ":badge:`training`\n",
    ":::\n",
    "\n",
    "[![RoHub - FAIR Executable Research Object](https://img.shields.io/badge/RoHub-FAIR_Service_Centric_Research_Object-2ea44f?logo=Open+Access&logoColor=blue)](https://w3id.org/ro-id/4a7315ba-326c-402b-b2c9-f3667357b0bc)"
   ]
  },
  {
   "cell_type": "code",
   "execution_count": 3,
   "id": "9a2dd7b9-eca9-43b9-a801-99fa642de20c",
   "metadata": {},
   "outputs": [
    {
     "name": "stdout",
     "output_type": "stream",
     "text": [
      "Collecting rohub\n",
      "  Downloading rohub-1.0.5.post1.tar.gz (39 kB)\n",
      "  Installing build dependencies ... \u001b[?25ldone\n",
      "\u001b[?25h  Getting requirements to build wheel ... \u001b[?25ldone\n",
      "\u001b[?25h    Preparing wheel metadata ... \u001b[?25ldone\n",
      "\u001b[?25hRequirement already satisfied: requests in /opt/conda/lib/python3.8/site-packages (from rohub) (2.25.1)\n",
      "Requirement already satisfied: pandas in /opt/conda/lib/python3.8/site-packages (from rohub) (1.2.4)\n",
      "Requirement already satisfied: python-dateutil>=2.7.3 in /opt/conda/lib/python3.8/site-packages (from pandas->rohub) (2.8.1)\n",
      "Requirement already satisfied: pytz>=2017.3 in /opt/conda/lib/python3.8/site-packages (from pandas->rohub) (2021.1)\n",
      "Requirement already satisfied: numpy>=1.16.5 in /opt/conda/lib/python3.8/site-packages (from pandas->rohub) (1.19.5)\n",
      "Requirement already satisfied: six>=1.5 in /opt/conda/lib/python3.8/site-packages (from python-dateutil>=2.7.3->pandas->rohub) (1.15.0)\n",
      "Requirement already satisfied: chardet<5,>=3.0.2 in /opt/conda/lib/python3.8/site-packages (from requests->rohub) (4.0.0)\n",
      "Requirement already satisfied: idna<3,>=2.5 in /opt/conda/lib/python3.8/site-packages (from requests->rohub) (2.10)\n",
      "Requirement already satisfied: certifi>=2017.4.17 in /opt/conda/lib/python3.8/site-packages (from requests->rohub) (2021.10.8)\n",
      "Requirement already satisfied: urllib3<1.27,>=1.21.1 in /opt/conda/lib/python3.8/site-packages (from requests->rohub) (1.26.4)\n",
      "Building wheels for collected packages: rohub\n",
      "  Building wheel for rohub (PEP 517) ... \u001b[?25ldone\n",
      "\u001b[?25h  Created wheel for rohub: filename=rohub-1.0.5.post1-py3-none-any.whl size=40269 sha256=c63f80d3a9b1d61026daae694eeaaf1bb179f396e7a5952156fcb9ef99b58345\n",
      "  Stored in directory: /home/jovyan/.cache/pip/wheels/7b/f5/d4/cc5c7458e63a15fd516e7da0c424fadce7a50caba66d074d0d\n",
      "Successfully built rohub\n",
      "Installing collected packages: rohub\n",
      "Successfully installed rohub-1.0.5.post1\n",
      "Note: you may need to restart the kernel to use updated packages.\n"
     ]
    }
   ],
   "source": [
    "pip install rohub"
   ]
  },
  {
   "cell_type": "code",
   "execution_count": 4,
   "id": "b1e80a31-9f9e-4224-a523-fa88c0ac2f6d",
   "metadata": {},
   "outputs": [],
   "source": [
    "import rohub\n",
    "import os"
   ]
  },
  {
   "cell_type": "code",
   "execution_count": 5,
   "id": "0bd5514c-d883-42b1-b551-64d34b4b09a4",
   "metadata": {},
   "outputs": [],
   "source": [
    "rohub_user = open(os.path.join(os.environ['HOME'],\"rohub-user\")).read().rstrip()\n",
    "rohub_pwd = open(os.path.join(os.environ['HOME'],\"rohub-pwd\")).read().rstrip()"
   ]
  },
  {
   "cell_type": "code",
   "execution_count": 6,
   "id": "0d759665-ca38-4164-8fbb-c97088efe25d",
   "metadata": {},
   "outputs": [
    {
     "name": "stdout",
     "output_type": "stream",
     "text": [
      "Logged successfully as annefou@geo.uio.no.\n"
     ]
    }
   ],
   "source": [
    "rohub.login(username=rohub_user, password=rohub_pwd)"
   ]
  },
  {
   "cell_type": "markdown",
   "id": "73ec16cd-2677-4eff-9696-234423a2c02d",
   "metadata": {},
   "source": [
    "### Below, make sure to replace by your own Research Object Identifier"
   ]
  },
  {
   "cell_type": "code",
   "execution_count": 7,
   "id": "77442445-54de-4a8c-a14b-33bd7d51063b",
   "metadata": {},
   "outputs": [],
   "source": [
    "# Update the identifier below with your Research Object Identifier.\n",
    "# Check the video to learn about how to get it: \n",
    "\n",
    "id = '4a7315ba-326c-402b-b2c9-f3667357b0bc'"
   ]
  },
  {
   "cell_type": "code",
   "execution_count": 8,
   "id": "5f42c8bc-4c8c-4c47-973d-a7042cf1caf2",
   "metadata": {},
   "outputs": [
    {
     "name": "stdout",
     "output_type": "stream",
     "text": [
      "Research Object was successfully loaded with id = 4a7315ba-326c-402b-b2c9-f3667357b0bc\n"
     ]
    }
   ],
   "source": [
    "ro = rohub.ros_load(identifier=id)"
   ]
  },
  {
   "cell_type": "code",
   "execution_count": 9,
   "id": "f4b19d5b-6301-438d-a15c-65beabd3b88f",
   "metadata": {
    "tags": []
   },
   "outputs": [
    {
     "data": {
      "text/plain": [
       "{'identifier': '4a7315ba-326c-402b-b2c9-f3667357b0bc',\n",
       " 'shared_link': 'https://w3id.org/ro-id/4a7315ba-326c-402b-b2c9-f3667357b0bc',\n",
       " 'title': 'Title of my Master thesis',\n",
       " 'description': 'Write description of your master thesis. Can be a summary.',\n",
       " 'status': 'LIVE',\n",
       " 'access_mode': 'PUBLIC',\n",
       " 'type': 'Executable Research Object',\n",
       " 'template': 'Executable Research Object folders structure',\n",
       " 'created': '2022-03-10T07:36:13.134316Z',\n",
       " 'creator': 'annefou@geo.uio.no',\n",
       " 'modificator': 'service-account-enrichment',\n",
       " 'modified': '2022-03-24T01:11:03.682809Z',\n",
       " 'importer': None,\n",
       " 'research_areas': ['Applied sciences'],\n",
       " 'owner': 'annefou@geo.uio.no',\n",
       " 'editors': [],\n",
       " 'readers': [],\n",
       " 'rating': '0.00',\n",
       " 'number_of_ratings': 0,\n",
       " 'number_of_likes': 0,\n",
       " 'number_of_dislikes': 0,\n",
       " 'completness': 60,\n",
       " 'size': 6831,\n",
       " 'creation_mode': 'MANUAL',\n",
       " 'doi': None,\n",
       " 'api_link': 'https://api.rohub.org/api/ros/4a7315ba-326c-402b-b2c9-f3667357b0bc/'}"
      ]
     },
     "execution_count": 9,
     "metadata": {},
     "output_type": "execute_result"
    }
   ],
   "source": [
    "ro.show_metadata()"
   ]
  },
  {
   "cell_type": "markdown",
   "id": "c707bc9e-eb95-4ec0-ba1f-a3e04de40fca",
   "metadata": {},
   "source": [
    "## Update the Research Object"
   ]
  },
  {
   "cell_type": "markdown",
   "id": "74fabe8a-eebd-4d63-b480-651d4faf44c7",
   "metadata": {},
   "source": [
    "### Add Publisher to RO\n",
    "\n",
    "- A publisher is an institution, company or a person that prepares and issues books, journals, videos, research objects, etc.\n"
   ]
  },
  {
   "cell_type": "code",
   "execution_count": 10,
   "id": "6a10052c-4912-4d31-ad39-a595be63795b",
   "metadata": {},
   "outputs": [
    {
     "data": {
      "text/html": [
       "<div>\n",
       "<style scoped>\n",
       "    .dataframe tbody tr th:only-of-type {\n",
       "        vertical-align: middle;\n",
       "    }\n",
       "\n",
       "    .dataframe tbody tr th {\n",
       "        vertical-align: top;\n",
       "    }\n",
       "\n",
       "    .dataframe thead th {\n",
       "        text-align: right;\n",
       "    }\n",
       "</style>\n",
       "<table border=\"1\" class=\"dataframe\">\n",
       "  <thead>\n",
       "    <tr style=\"text-align: right;\">\n",
       "      <th></th>\n",
       "      <th>identifier</th>\n",
       "      <th>organization_id</th>\n",
       "      <th>display_name</th>\n",
       "      <th>email</th>\n",
       "      <th>url</th>\n",
       "      <th>ror_identifier</th>\n",
       "    </tr>\n",
       "  </thead>\n",
       "  <tbody>\n",
       "    <tr>\n",
       "      <th>0</th>\n",
       "      <td>1d581e9d-25e2-4029-bdeb-6c055a0db8e4</td>\n",
       "      <td>https://ror.org/01xtthb56</td>\n",
       "      <td>University of Oslo</td>\n",
       "      <td>None</td>\n",
       "      <td>http://www.uio.no/english/</td>\n",
       "      <td>01xtthb56</td>\n",
       "    </tr>\n",
       "    <tr>\n",
       "      <th>1</th>\n",
       "      <td>f8b4ad0c-a4b1-4595-81a0-dcf42db083d4</td>\n",
       "      <td>http://www.uio.no/english/</td>\n",
       "      <td>University of Oslo</td>\n",
       "      <td></td>\n",
       "      <td>http://www.uio.no/english/</td>\n",
       "      <td>01xtthb56</td>\n",
       "    </tr>\n",
       "  </tbody>\n",
       "</table>\n",
       "</div>"
      ],
      "text/plain": [
       "                             identifier             organization_id  \\\n",
       "0  1d581e9d-25e2-4029-bdeb-6c055a0db8e4   https://ror.org/01xtthb56   \n",
       "1  f8b4ad0c-a4b1-4595-81a0-dcf42db083d4  http://www.uio.no/english/   \n",
       "\n",
       "         display_name email                         url ror_identifier  \n",
       "0  University of Oslo  None  http://www.uio.no/english/      01xtthb56  \n",
       "1  University of Oslo        http://www.uio.no/english/      01xtthb56  "
      ]
     },
     "execution_count": 10,
     "metadata": {},
     "output_type": "execute_result"
    }
   ],
   "source": [
    "organizations = rohub.organizations_find(search=\"Oslo\")\n",
    "organizations"
   ]
  },
  {
   "cell_type": "code",
   "execution_count": 11,
   "id": "e5d7bc4a-af28-404f-a1b8-47035fcacd8b",
   "metadata": {},
   "outputs": [
    {
     "data": {
      "text/plain": [
       "'https://ror.org/01xtthb56'"
      ]
     },
     "execution_count": 11,
     "metadata": {},
     "output_type": "execute_result"
    }
   ],
   "source": [
    "uio_org = 'https://ror.org/01xtthb56'\n",
    "uio_org"
   ]
  },
  {
   "cell_type": "code",
   "execution_count": 12,
   "id": "483e1e1b-6eb5-454d-b228-8962ffde907c",
   "metadata": {},
   "outputs": [],
   "source": [
    "list_publishers = [uio_org]"
   ]
  },
  {
   "cell_type": "code",
   "execution_count": 13,
   "id": "e9cbd820-dfcf-4fc0-ab8e-c0f5c049c5ed",
   "metadata": {
    "tags": []
   },
   "outputs": [
    {
     "name": "stdout",
     "output_type": "stream",
     "text": [
      "Agent: https://ror.org/01xtthb56 recognized in the system.\n"
     ]
    },
    {
     "data": {
      "text/plain": [
       "[{'identifier': '1d581e9d-25e2-4029-bdeb-6c055a0db8e4',\n",
       "  'username': 'https://ror.org/01xtthb56',\n",
       "  'name': 'https://ror.org/01xtthb56',\n",
       "  'type': 'Organization',\n",
       "  'order': 0,\n",
       "  'display_name': 'University of Oslo'}]"
      ]
     },
     "execution_count": 13,
     "metadata": {},
     "output_type": "execute_result"
    }
   ],
   "source": [
    "ro.set_publishers(agents=list_publishers)"
   ]
  },
  {
   "cell_type": "markdown",
   "id": "ffa04cf5-8f14-4afa-a3ca-5c83a9026571",
   "metadata": {},
   "source": [
    "### Add Copyright holders to RO\n",
    "- A \"copyright holder\" is a person or a company who owns any one of the Exclusive Rights of copyright in a work."
   ]
  },
  {
   "cell_type": "code",
   "execution_count": 15,
   "id": "82995be7-6225-4540-bedd-e24015fe742c",
   "metadata": {},
   "outputs": [
    {
     "data": {
      "text/html": [
       "<div>\n",
       "<style scoped>\n",
       "    .dataframe tbody tr th:only-of-type {\n",
       "        vertical-align: middle;\n",
       "    }\n",
       "\n",
       "    .dataframe tbody tr th {\n",
       "        vertical-align: top;\n",
       "    }\n",
       "\n",
       "    .dataframe thead th {\n",
       "        text-align: right;\n",
       "    }\n",
       "</style>\n",
       "<table border=\"1\" class=\"dataframe\">\n",
       "  <thead>\n",
       "    <tr style=\"text-align: right;\">\n",
       "      <th></th>\n",
       "      <th>identifier</th>\n",
       "      <th>username</th>\n",
       "      <th>display_name</th>\n",
       "      <th>affiliation</th>\n",
       "      <th>description</th>\n",
       "      <th>areas_of_interest</th>\n",
       "      <th>orcid_identifier</th>\n",
       "      <th>external</th>\n",
       "    </tr>\n",
       "  </thead>\n",
       "  <tbody>\n",
       "    <tr>\n",
       "      <th>0</th>\n",
       "      <td>62277187-0f2e-4320-a6b0-7fe467f1b1c1</td>\n",
       "      <td>annefou@geo.uio.no</td>\n",
       "      <td>Anne Fouilloux</td>\n",
       "      <td>Nordic e-Infrastructure Collaboration (NeIC)</td>\n",
       "      <td>Research Software Engineer</td>\n",
       "      <td>Weather and Climate Science</td>\n",
       "      <td>0000-0002-1784-2920</td>\n",
       "      <td>False</td>\n",
       "    </tr>\n",
       "    <tr>\n",
       "      <th>2</th>\n",
       "      <td>b7064804-420b-43e6-8fdb-dfd5a6b36ca1</td>\n",
       "      <td>anne.claire.fouilloux@rohub.com</td>\n",
       "      <td>Anne Claire Fouilloux</td>\n",
       "      <td>None</td>\n",
       "      <td>NaN</td>\n",
       "      <td>NaN</td>\n",
       "      <td>None</td>\n",
       "      <td>True</td>\n",
       "    </tr>\n",
       "  </tbody>\n",
       "</table>\n",
       "</div>"
      ],
      "text/plain": [
       "                             identifier                         username  \\\n",
       "0  62277187-0f2e-4320-a6b0-7fe467f1b1c1               annefou@geo.uio.no   \n",
       "2  b7064804-420b-43e6-8fdb-dfd5a6b36ca1  anne.claire.fouilloux@rohub.com   \n",
       "\n",
       "            display_name                                   affiliation  \\\n",
       "0         Anne Fouilloux  Nordic e-Infrastructure Collaboration (NeIC)   \n",
       "2  Anne Claire Fouilloux                                          None   \n",
       "\n",
       "                  description            areas_of_interest  \\\n",
       "0  Research Software Engineer  Weather and Climate Science   \n",
       "2                         NaN                          NaN   \n",
       "\n",
       "      orcid_identifier  external  \n",
       "0  0000-0002-1784-2920     False  \n",
       "2                 None      True  "
      ]
     },
     "execution_count": 15,
     "metadata": {},
     "output_type": "execute_result"
    }
   ],
   "source": [
    "usernames=rohub.users_find(search=\"Fouilloux\")\n",
    "usernames"
   ]
  },
  {
   "cell_type": "code",
   "execution_count": 16,
   "id": "a673b602-7d74-4141-88c4-146902701ab4",
   "metadata": {},
   "outputs": [],
   "source": [
    "list_copyright_holders = ['annefou@geo.uio.no']"
   ]
  },
  {
   "cell_type": "code",
   "execution_count": 17,
   "id": "2c958946-22ed-4f34-898c-2c1777c2642a",
   "metadata": {
    "tags": []
   },
   "outputs": [
    {
     "name": "stdout",
     "output_type": "stream",
     "text": [
      "Agent: annefou@geo.uio.no recognized in the system.\n"
     ]
    },
    {
     "data": {
      "text/plain": [
       "[{'identifier': '62277187-0f2e-4320-a6b0-7fe467f1b1c1',\n",
       "  'username': 'annefou@geo.uio.no',\n",
       "  'name': 'annefou@geo.uio.no',\n",
       "  'type': 'RohubUser',\n",
       "  'order': 0,\n",
       "  'display_name': 'Anne Fouilloux',\n",
       "  'orcid_identifier': '0000-0002-1784-2920',\n",
       "  'affiliation': 'Nordic e-Infrastructure Collaboration (NeIC)'}]"
      ]
     },
     "execution_count": 17,
     "metadata": {},
     "output_type": "execute_result"
    }
   ],
   "source": [
    "ro.set_copyright_holders(agents=list_copyright_holders)"
   ]
  },
  {
   "cell_type": "markdown",
   "id": "2151dbaf-0114-4bdd-99f8-cb0a5dcd5452",
   "metadata": {},
   "source": [
    "### Add your supervisors as contributors"
   ]
  },
  {
   "cell_type": "code",
   "execution_count": 18,
   "id": "c2fd5f13-3935-4281-af33-8c7ba4a65ae8",
   "metadata": {},
   "outputs": [
    {
     "data": {
      "text/html": [
       "<div>\n",
       "<style scoped>\n",
       "    .dataframe tbody tr th:only-of-type {\n",
       "        vertical-align: middle;\n",
       "    }\n",
       "\n",
       "    .dataframe tbody tr th {\n",
       "        vertical-align: top;\n",
       "    }\n",
       "\n",
       "    .dataframe thead th {\n",
       "        text-align: right;\n",
       "    }\n",
       "</style>\n",
       "<table border=\"1\" class=\"dataframe\">\n",
       "  <thead>\n",
       "    <tr style=\"text-align: right;\">\n",
       "      <th></th>\n",
       "      <th>identifier</th>\n",
       "      <th>username</th>\n",
       "      <th>display_name</th>\n",
       "      <th>affiliation</th>\n",
       "      <th>orcid_identifier</th>\n",
       "      <th>external</th>\n",
       "    </tr>\n",
       "  </thead>\n",
       "  <tbody>\n",
       "    <tr>\n",
       "      <th>0</th>\n",
       "      <td>409cbecf-dc66-43bc-b7ba-a3f568cf818e</td>\n",
       "      <td>trude.storelvmo@geo.uio.no</td>\n",
       "      <td>Trude Storelvmo</td>\n",
       "      <td>UiO</td>\n",
       "      <td>0000-0002-0068-2430</td>\n",
       "      <td>True</td>\n",
       "    </tr>\n",
       "  </tbody>\n",
       "</table>\n",
       "</div>"
      ],
      "text/plain": [
       "                             identifier                    username  \\\n",
       "0  409cbecf-dc66-43bc-b7ba-a3f568cf818e  trude.storelvmo@geo.uio.no   \n",
       "\n",
       "      display_name affiliation     orcid_identifier  external  \n",
       "0  Trude Storelvmo         UiO  0000-0002-0068-2430      True  "
      ]
     },
     "execution_count": 18,
     "metadata": {},
     "output_type": "execute_result"
    }
   ],
   "source": [
    "usernames=rohub.users_find(search=\"Trude\")\n",
    "usernames"
   ]
  },
  {
   "cell_type": "code",
   "execution_count": 19,
   "id": "3b4e6f53-4fc7-4db8-a989-793610b9ef88",
   "metadata": {},
   "outputs": [],
   "source": [
    "supervisor1='trude.storelvmo@geo.uio.no'"
   ]
  },
  {
   "cell_type": "code",
   "execution_count": 20,
   "id": "a2378f85-77c2-49c0-ae78-eca475e1126f",
   "metadata": {},
   "outputs": [
    {
     "data": {
      "text/html": [
       "<div>\n",
       "<style scoped>\n",
       "    .dataframe tbody tr th:only-of-type {\n",
       "        vertical-align: middle;\n",
       "    }\n",
       "\n",
       "    .dataframe tbody tr th {\n",
       "        vertical-align: top;\n",
       "    }\n",
       "\n",
       "    .dataframe thead th {\n",
       "        text-align: right;\n",
       "    }\n",
       "</style>\n",
       "<table border=\"1\" class=\"dataframe\">\n",
       "  <thead>\n",
       "    <tr style=\"text-align: right;\">\n",
       "      <th></th>\n",
       "    </tr>\n",
       "  </thead>\n",
       "  <tbody>\n",
       "  </tbody>\n",
       "</table>\n",
       "</div>"
      ],
      "text/plain": [
       "Empty DataFrame\n",
       "Columns: []\n",
       "Index: []"
      ]
     },
     "execution_count": 20,
     "metadata": {},
     "output_type": "execute_result"
    }
   ],
   "source": [
    "usernames=rohub.users_find(search=\"Benjamin\")\n",
    "usernames"
   ]
  },
  {
   "cell_type": "code",
   "execution_count": 21,
   "id": "ab5b6e9a-6c5d-465e-a206-9dcdac2349cd",
   "metadata": {},
   "outputs": [],
   "source": [
    "supervisor2 = { \"display_name\": \"Benjamin Ragan-Kelley\", \n",
    "               \"email\":\"benjaminrk@simula.no\",\n",
    "               \"affiliation\": \"Simula, Department of Numerical Analysis and Scientific Computing (Norway)\"}"
   ]
  },
  {
   "cell_type": "code",
   "execution_count": 22,
   "id": "f8d55147-347f-4d5e-b037-2356c9438c77",
   "metadata": {},
   "outputs": [
    {
     "name": "stdout",
     "output_type": "stream",
     "text": [
      "Agent: trude.storelvmo@geo.uio.no recognized in the system.\n",
      "Agent for: {'display_name': 'Benjamin Ragan-Kelley', 'email': 'benjaminrk@simula.no', 'affiliation': 'Simula, Department of Numerical Analysis and Scientific Computing (Norway)'} does not exist in the system, creating a new one based on the input data...\n",
      "User successfully created with internal id: 20dc82ee-c726-4512-8e25-b2d5b6db0834!\n"
     ]
    },
    {
     "data": {
      "text/plain": [
       "[{'identifier': '409cbecf-dc66-43bc-b7ba-a3f568cf818e',\n",
       "  'username': 'trude.storelvmo@geo.uio.no',\n",
       "  'name': 'trude.storelvmo@geo.uio.no',\n",
       "  'type': 'ExternalUser',\n",
       "  'order': 0,\n",
       "  'display_name': 'Trude Storelvmo',\n",
       "  'orcid_identifier': '0000-0002-0068-2430',\n",
       "  'affiliation': 'UiO'},\n",
       " {'identifier': '20dc82ee-c726-4512-8e25-b2d5b6db0834',\n",
       "  'username': 'benjaminrk@simula.no',\n",
       "  'name': 'benjaminrk@simula.no',\n",
       "  'type': 'ExternalUser',\n",
       "  'order': 1,\n",
       "  'display_name': 'Benjamin Ragan-Kelley',\n",
       "  'affiliation': 'Simula, Department of Numerical Analysis and Scientific Computing (Norway)'}]"
      ]
     },
     "execution_count": 22,
     "metadata": {},
     "output_type": "execute_result"
    }
   ],
   "source": [
    "ro.set_contributors(agents=[supervisor1, supervisor2])"
   ]
  },
  {
   "cell_type": "markdown",
   "id": "84c1eb0e-c51b-4628-a172-97d3666fc4ef",
   "metadata": {},
   "source": [
    "### Add a license"
   ]
  },
  {
   "cell_type": "code",
   "execution_count": 23,
   "id": "f05d789c-7df4-43f1-8772-35a176d1528a",
   "metadata": {
    "tags": [
     "output_scroll"
    ]
   },
   "outputs": [
    {
     "data": {
      "text/plain": [
       "['0BSD',\n",
       " 'AAL',\n",
       " 'ADSL',\n",
       " 'AFL-1.1',\n",
       " 'AFL-1.2',\n",
       " 'AFL-2.0',\n",
       " 'AFL-2.1',\n",
       " 'AFL-3.0',\n",
       " 'AGPL-1.0',\n",
       " 'AGPL-1.0-only',\n",
       " 'AGPL-1.0-or-later',\n",
       " 'AGPL-3.0',\n",
       " 'AGPL-3.0-only',\n",
       " 'AGPL-3.0-or-later',\n",
       " 'AMDPLPA',\n",
       " 'AML',\n",
       " 'AMPAS',\n",
       " 'ANTLR-PD',\n",
       " 'ANTLR-PD-fallback',\n",
       " 'APAFML',\n",
       " 'APL-1.0',\n",
       " 'APSL-1.0',\n",
       " 'APSL-1.1',\n",
       " 'APSL-1.2',\n",
       " 'APSL-2.0',\n",
       " 'Abstyles',\n",
       " 'Adobe-2006',\n",
       " 'Adobe-Glyph',\n",
       " 'Afmparse',\n",
       " 'Against-DRM',\n",
       " 'Aladdin',\n",
       " 'Apache-1.0',\n",
       " 'Apache-1.1',\n",
       " 'Apache-2.0',\n",
       " 'Artistic-1.0',\n",
       " 'Artistic-1.0-Perl',\n",
       " 'Artistic-1.0-cl8',\n",
       " 'Artistic-2.0',\n",
       " 'BSD-1-Clause',\n",
       " 'BSD-2-Clause',\n",
       " 'BSD-2-Clause-FreeBSD',\n",
       " 'BSD-2-Clause-NetBSD',\n",
       " 'BSD-2-Clause-Patent',\n",
       " 'BSD-2-Clause-Views',\n",
       " 'BSD-3-Clause',\n",
       " 'BSD-3-Clause-Attribution',\n",
       " 'BSD-3-Clause-Clear',\n",
       " 'BSD-3-Clause-LBNL',\n",
       " 'BSD-3-Clause-Modification',\n",
       " 'BSD-3-Clause-No-Military-License',\n",
       " 'BSD-3-Clause-No-Nuclear-License',\n",
       " 'BSD-3-Clause-No-Nuclear-License-2014',\n",
       " 'BSD-3-Clause-No-Nuclear-Warranty',\n",
       " 'BSD-3-Clause-Open-MPI',\n",
       " 'BSD-4-Clause',\n",
       " 'BSD-4-Clause-Shortened',\n",
       " 'BSD-4-Clause-UC',\n",
       " 'BSD-Protection',\n",
       " 'BSD-Source-Code',\n",
       " 'BSL-1.0',\n",
       " 'BUSL-1.1',\n",
       " 'Bahyph',\n",
       " 'Barr',\n",
       " 'Beerware',\n",
       " 'BitTorrent-1.0',\n",
       " 'BitTorrent-1.1',\n",
       " 'BlueOak-1.0.0',\n",
       " 'Borceux',\n",
       " 'C-UDA-1.0',\n",
       " 'CAL-1.0',\n",
       " 'CAL-1.0-Combined-Work-Exception',\n",
       " 'CATOSL-1.1',\n",
       " 'CC-BY-1.0',\n",
       " 'CC-BY-2.0',\n",
       " 'CC-BY-2.5',\n",
       " 'CC-BY-2.5-AU',\n",
       " 'CC-BY-3.0',\n",
       " 'CC-BY-3.0-AT',\n",
       " 'CC-BY-3.0-DE',\n",
       " 'CC-BY-3.0-NL',\n",
       " 'CC-BY-3.0-US',\n",
       " 'CC-BY-4.0',\n",
       " 'CC-BY-NC-1.0',\n",
       " 'CC-BY-NC-2.0',\n",
       " 'CC-BY-NC-2.5',\n",
       " 'CC-BY-NC-3.0',\n",
       " 'CC-BY-NC-3.0-DE',\n",
       " 'CC-BY-NC-4.0',\n",
       " 'CC-BY-NC-ND-1.0',\n",
       " 'CC-BY-NC-ND-2.0',\n",
       " 'CC-BY-NC-ND-2.5',\n",
       " 'CC-BY-NC-ND-3.0',\n",
       " 'CC-BY-NC-ND-3.0-DE',\n",
       " 'CC-BY-NC-ND-3.0-IGO',\n",
       " 'CC-BY-NC-ND-4.0',\n",
       " 'CC-BY-NC-SA-1.0',\n",
       " 'CC-BY-NC-SA-2.0',\n",
       " 'CC-BY-NC-SA-2.0-FR',\n",
       " 'CC-BY-NC-SA-2.0-UK',\n",
       " 'CC-BY-NC-SA-2.5',\n",
       " 'CC-BY-NC-SA-3.0',\n",
       " 'CC-BY-NC-SA-3.0-DE',\n",
       " 'CC-BY-NC-SA-3.0-IGO',\n",
       " 'CC-BY-NC-SA-4.0',\n",
       " 'CC-BY-ND-1.0',\n",
       " 'CC-BY-ND-2.0',\n",
       " 'CC-BY-ND-2.5',\n",
       " 'CC-BY-ND-3.0',\n",
       " 'CC-BY-ND-3.0-DE',\n",
       " 'CC-BY-ND-4.0',\n",
       " 'CC-BY-SA-1.0',\n",
       " 'CC-BY-SA-2.0',\n",
       " 'CC-BY-SA-2.0-UK',\n",
       " 'CC-BY-SA-2.1-JP',\n",
       " 'CC-BY-SA-2.5',\n",
       " 'CC-BY-SA-3.0',\n",
       " 'CC-BY-SA-3.0-AT',\n",
       " 'CC-BY-SA-3.0-DE',\n",
       " 'CC-BY-SA-4.0',\n",
       " 'CC-PDDC',\n",
       " 'CC0-1.0',\n",
       " 'CDDL-1.0',\n",
       " 'CDDL-1.1',\n",
       " 'CDL-1.0',\n",
       " 'CDLA-Permissive-1.0',\n",
       " 'CDLA-Permissive-2.0',\n",
       " 'CDLA-Sharing-1.0',\n",
       " 'CECILL-1.0',\n",
       " 'CECILL-1.1',\n",
       " 'CECILL-2.0',\n",
       " 'CECILL-2.1',\n",
       " 'CECILL-B',\n",
       " 'CECILL-C',\n",
       " 'CERN-OHL-1.1',\n",
       " 'CERN-OHL-1.2',\n",
       " 'CERN-OHL-P-2.0',\n",
       " 'CERN-OHL-S-2.0',\n",
       " 'CERN-OHL-W-2.0',\n",
       " 'CNRI-Jython',\n",
       " 'CNRI-Python',\n",
       " 'CNRI-Python-GPL-Compatible',\n",
       " 'CPAL-1.0',\n",
       " 'CPL-1.0',\n",
       " 'CPOL-1.02',\n",
       " 'CUA-OPL-1.0',\n",
       " 'Caldera',\n",
       " 'ClArtistic',\n",
       " 'Condor-1.1',\n",
       " 'Crossword',\n",
       " 'CrystalStacker',\n",
       " 'Cube',\n",
       " 'D-FSL-1.0',\n",
       " 'DOC',\n",
       " 'DRL-1.0',\n",
       " 'DSDP',\n",
       " 'DSL',\n",
       " 'Dotseqn',\n",
       " 'ECL-1.0',\n",
       " 'ECL-2.0',\n",
       " 'EFL-1.0',\n",
       " 'EFL-2.0',\n",
       " 'EPICS',\n",
       " 'EPL-1.0',\n",
       " 'EPL-2.0',\n",
       " 'EUDatagrid',\n",
       " 'EUPL-1.0',\n",
       " 'EUPL-1.1',\n",
       " 'EUPL-1.2',\n",
       " 'Entessa',\n",
       " 'ErlPL-1.1',\n",
       " 'Eurosym',\n",
       " 'FAL-1.3',\n",
       " 'FSFAP',\n",
       " 'FSFUL',\n",
       " 'FSFULLR',\n",
       " 'FTL',\n",
       " 'Fair',\n",
       " 'Frameworx-1.0',\n",
       " 'FreeBSD-DOC',\n",
       " 'FreeImage',\n",
       " 'GD',\n",
       " 'GFDL-1.1',\n",
       " 'GFDL-1.1-invariants-only',\n",
       " 'GFDL-1.1-invariants-or-later',\n",
       " 'GFDL-1.1-no-invariants-only',\n",
       " 'GFDL-1.1-no-invariants-or-later',\n",
       " 'GFDL-1.1-only',\n",
       " 'GFDL-1.1-or-later',\n",
       " 'GFDL-1.2',\n",
       " 'GFDL-1.2-invariants-only',\n",
       " 'GFDL-1.2-invariants-or-later',\n",
       " 'GFDL-1.2-no-invariants-only',\n",
       " 'GFDL-1.2-no-invariants-or-later',\n",
       " 'GFDL-1.2-only',\n",
       " 'GFDL-1.2-or-later',\n",
       " 'GFDL-1.3',\n",
       " 'GFDL-1.3-invariants-only',\n",
       " 'GFDL-1.3-invariants-or-later',\n",
       " 'GFDL-1.3-no-cover-texts-no-invariant-sections',\n",
       " 'GFDL-1.3-no-invariants-only',\n",
       " 'GFDL-1.3-no-invariants-or-later',\n",
       " 'GFDL-1.3-only',\n",
       " 'GFDL-1.3-or-later',\n",
       " 'GL2PS',\n",
       " 'GLWTPL',\n",
       " 'GPL-1.0',\n",
       " 'GPL-1.0+',\n",
       " 'GPL-1.0-only',\n",
       " 'GPL-1.0-or-later',\n",
       " 'GPL-2.0',\n",
       " 'GPL-2.0+',\n",
       " 'GPL-2.0-only',\n",
       " 'GPL-2.0-or-later',\n",
       " 'GPL-2.0-with-GCC-exception',\n",
       " 'GPL-2.0-with-autoconf-exception',\n",
       " 'GPL-2.0-with-bison-exception',\n",
       " 'GPL-2.0-with-classpath-exception',\n",
       " 'GPL-2.0-with-font-exception',\n",
       " 'GPL-3.0',\n",
       " 'GPL-3.0+',\n",
       " 'GPL-3.0-only',\n",
       " 'GPL-3.0-or-later',\n",
       " 'GPL-3.0-with-GCC-exception',\n",
       " 'GPL-3.0-with-autoconf-exception',\n",
       " 'Giftware',\n",
       " 'Glide',\n",
       " 'Glulxe',\n",
       " 'HPND',\n",
       " 'HPND-sell-variant',\n",
       " 'HTMLTIDY',\n",
       " 'HaskellReport',\n",
       " 'Hippocratic-2.1',\n",
       " 'IBM-pibs',\n",
       " 'ICU',\n",
       " 'IJG',\n",
       " 'IPA',\n",
       " 'IPL-1.0',\n",
       " 'ISC',\n",
       " 'ImageMagick',\n",
       " 'Imlib2',\n",
       " 'Info-ZIP',\n",
       " 'Intel',\n",
       " 'Intel-ACPI',\n",
       " 'Interbase-1.0',\n",
       " 'JPNIC',\n",
       " 'JSON',\n",
       " 'JasPer-2.0',\n",
       " 'LAL-1.2',\n",
       " 'LAL-1.3',\n",
       " 'LGPL-2.0',\n",
       " 'LGPL-2.0+',\n",
       " 'LGPL-2.0-only',\n",
       " 'LGPL-2.0-or-later',\n",
       " 'LGPL-2.1',\n",
       " 'LGPL-2.1+',\n",
       " 'LGPL-2.1-only',\n",
       " 'LGPL-2.1-or-later',\n",
       " 'LGPL-3.0',\n",
       " 'LGPL-3.0+',\n",
       " 'LGPL-3.0-only',\n",
       " 'LGPL-3.0-or-later',\n",
       " 'LGPLLR',\n",
       " 'LO-FR-2.0',\n",
       " 'LPL-1.0',\n",
       " 'LPL-1.02',\n",
       " 'LPPL-1.0',\n",
       " 'LPPL-1.1',\n",
       " 'LPPL-1.2',\n",
       " 'LPPL-1.3a',\n",
       " 'LPPL-1.3c',\n",
       " 'Latex2e',\n",
       " 'Leptonica',\n",
       " 'LiLiQ-P-1.1',\n",
       " 'LiLiQ-R-1.1',\n",
       " 'LiLiQ-Rplus-1.1',\n",
       " 'Libpng',\n",
       " 'Linux-OpenIB',\n",
       " 'MIT',\n",
       " 'MIT-0',\n",
       " 'MIT-CMU',\n",
       " 'MIT-Modern-Variant',\n",
       " 'MIT-advertising',\n",
       " 'MIT-enna',\n",
       " 'MIT-feh',\n",
       " 'MIT-open-group',\n",
       " 'MITNFA',\n",
       " 'MPL-1.0',\n",
       " 'MPL-1.1',\n",
       " 'MPL-2.0',\n",
       " 'MPL-2.0-no-copyleft-exception',\n",
       " 'MS-PL',\n",
       " 'MS-RL',\n",
       " 'MTLL',\n",
       " 'MakeIndex',\n",
       " 'MirOS',\n",
       " 'Motosoto',\n",
       " 'MulanPSL-1.0',\n",
       " 'MulanPSL-2.0',\n",
       " 'Multics',\n",
       " 'Mup',\n",
       " 'NAIST-2003',\n",
       " 'NASA-1.3',\n",
       " 'NBPL-1.0',\n",
       " 'NCGL-UK-2.0',\n",
       " 'NCSA',\n",
       " 'NGPL',\n",
       " 'NIST-PD',\n",
       " 'NIST-PD-fallback',\n",
       " 'NLOD-1.0',\n",
       " 'NLOD-2.0',\n",
       " 'NLPL',\n",
       " 'NOSL',\n",
       " 'NPL-1.0',\n",
       " 'NPL-1.1',\n",
       " 'NPOSL-3.0',\n",
       " 'NRL',\n",
       " 'NTP',\n",
       " 'NTP-0',\n",
       " 'Naumen',\n",
       " 'Net-SNMP',\n",
       " 'NetCDF',\n",
       " 'Newsletr',\n",
       " 'Nokia',\n",
       " 'Noweb',\n",
       " 'Nunit',\n",
       " 'O-UDA-1.0',\n",
       " 'OCCT-PL',\n",
       " 'OCLC-2.0',\n",
       " 'ODC-By-1.0',\n",
       " 'ODC-PDDL-1.0',\n",
       " 'ODbL-1.0',\n",
       " 'OFL-1.0',\n",
       " 'OFL-1.0-RFN',\n",
       " 'OFL-1.0-no-RFN',\n",
       " 'OFL-1.1',\n",
       " 'OFL-1.1-RFN',\n",
       " 'OFL-1.1-no-RFN',\n",
       " 'OGC-1.0',\n",
       " 'OGDL-Taiwan-1.0',\n",
       " 'OGL-Canada-2.0',\n",
       " 'OGL-UK-1.0',\n",
       " 'OGL-UK-2.0',\n",
       " 'OGL-UK-3.0',\n",
       " 'OGTSL',\n",
       " 'OLDAP-1.1',\n",
       " 'OLDAP-1.2',\n",
       " 'OLDAP-1.3',\n",
       " 'OLDAP-1.4',\n",
       " 'OLDAP-2.0',\n",
       " 'OLDAP-2.0.1',\n",
       " 'OLDAP-2.1',\n",
       " 'OLDAP-2.2',\n",
       " 'OLDAP-2.2.1',\n",
       " 'OLDAP-2.2.2',\n",
       " 'OLDAP-2.3',\n",
       " 'OLDAP-2.4',\n",
       " 'OLDAP-2.5',\n",
       " 'OLDAP-2.6',\n",
       " 'OLDAP-2.7',\n",
       " 'OLDAP-2.8',\n",
       " 'OML',\n",
       " 'OPL-1.0',\n",
       " 'OPUBL-1.0',\n",
       " 'OSET-PL-2.1',\n",
       " 'OSL-1.0',\n",
       " 'OSL-1.1',\n",
       " 'OSL-2.0',\n",
       " 'OSL-2.1',\n",
       " 'OSL-3.0',\n",
       " 'OpenSSL',\n",
       " 'PDDL-1.0',\n",
       " 'PHP-3.0',\n",
       " 'PHP-3.01',\n",
       " 'PSF-2.0',\n",
       " 'Parity-6.0.0',\n",
       " 'Parity-7.0.0',\n",
       " 'Plexus',\n",
       " 'PolyForm-Noncommercial-1.0.0',\n",
       " 'PolyForm-Small-Business-1.0.0',\n",
       " 'PostgreSQL',\n",
       " 'Python-2.0',\n",
       " 'QPL-1.0',\n",
       " 'Qhull',\n",
       " 'RHeCos-1.1',\n",
       " 'RPL-1.1',\n",
       " 'RPL-1.5',\n",
       " 'RPSL-1.0',\n",
       " 'RSA-MD',\n",
       " 'RSCPL',\n",
       " 'Rdisc',\n",
       " 'Ruby',\n",
       " 'SAX-PD',\n",
       " 'SCEA',\n",
       " 'SGI-B-1.0',\n",
       " 'SGI-B-1.1',\n",
       " 'SGI-B-2.0',\n",
       " 'SHL-0.5',\n",
       " 'SHL-0.51',\n",
       " 'SISSL',\n",
       " 'SISSL-1.2',\n",
       " 'SMLNJ',\n",
       " 'SMPPL',\n",
       " 'SNIA',\n",
       " 'SPL-1.0',\n",
       " 'SSH-OpenSSH',\n",
       " 'SSH-short',\n",
       " 'SSPL-1.0',\n",
       " 'SWL',\n",
       " 'Saxpath',\n",
       " 'Sendmail',\n",
       " 'Sendmail-8.23',\n",
       " 'SimPL-2.0',\n",
       " 'Sleepycat',\n",
       " 'Spencer-86',\n",
       " 'Spencer-94',\n",
       " 'Spencer-99',\n",
       " 'StandardML-NJ',\n",
       " 'SugarCRM-1.1.3',\n",
       " 'TAPR-OHL-1.0',\n",
       " 'TCL',\n",
       " 'TCP-wrappers',\n",
       " 'TMate',\n",
       " 'TORQUE-1.1',\n",
       " 'TOSL',\n",
       " 'TU-Berlin-1.0',\n",
       " 'TU-Berlin-2.0',\n",
       " 'UCL-1.0',\n",
       " 'UPL-1.0',\n",
       " 'Unicode-DFS-2015',\n",
       " 'Unicode-DFS-2016',\n",
       " 'Unicode-TOU',\n",
       " 'Unlicense',\n",
       " 'VOSTROM',\n",
       " 'VSL-1.0',\n",
       " 'Vim',\n",
       " 'W3C',\n",
       " 'W3C-19980720',\n",
       " 'W3C-20150513',\n",
       " 'WTFPL',\n",
       " 'Watcom-1.0',\n",
       " 'Wsuipa',\n",
       " 'X11',\n",
       " 'XFree86-1.1',\n",
       " 'XSkat',\n",
       " 'Xerox',\n",
       " 'Xnet',\n",
       " 'YPL-1.0',\n",
       " 'YPL-1.1',\n",
       " 'ZPL-1.1',\n",
       " 'ZPL-2.0',\n",
       " 'ZPL-2.1',\n",
       " 'Zed',\n",
       " 'Zend-2.0',\n",
       " 'Zimbra-1.3',\n",
       " 'Zimbra-1.4',\n",
       " 'Zlib',\n",
       " 'acme-cc',\n",
       " 'acme-cc-by',\n",
       " 'blessing',\n",
       " 'bsd-license',\n",
       " 'bzip2-1.0.5',\n",
       " 'bzip2-1.0.6',\n",
       " 'canada-crown',\n",
       " 'cc-nc',\n",
       " 'copyleft-next-0.3.0',\n",
       " 'copyleft-next-0.3.1',\n",
       " 'curl',\n",
       " 'diffmark',\n",
       " 'dli-model-use',\n",
       " 'dvipdfm',\n",
       " 'eCos-2.0',\n",
       " 'eGenix',\n",
       " 'etalab-2.0',\n",
       " 'eurofound',\n",
       " 'gSOAP-1.3b',\n",
       " 'geo-no-fee-unrestricted',\n",
       " 'geogratis',\n",
       " 'gnuplot',\n",
       " 'hesa-withrights',\n",
       " 'iMatix',\n",
       " 'jabber-osl',\n",
       " 'libpng-2.0',\n",
       " 'libselinux-1.0',\n",
       " 'libtiff',\n",
       " 'localauth-withrights',\n",
       " 'lucent-plan9',\n",
       " 'met-office-cp',\n",
       " 'mitre',\n",
       " 'mpich2',\n",
       " 'my-example-license1',\n",
       " 'notspecified',\n",
       " 'other-at',\n",
       " 'other-closed',\n",
       " 'other-nc',\n",
       " 'other-open',\n",
       " 'other-pd',\n",
       " 'psfrag',\n",
       " 'psutils',\n",
       " 'ukclickusepsi',\n",
       " 'ukcrown',\n",
       " 'ukcrown-withrights',\n",
       " 'ukpsi',\n",
       " 'user-jsim',\n",
       " 'wxWindows',\n",
       " 'xinetd',\n",
       " 'xpp',\n",
       " 'zenodo-freetoread-1.0',\n",
       " 'zlib-acknowledgement']"
      ]
     },
     "execution_count": 23,
     "metadata": {},
     "output_type": "execute_result"
    }
   ],
   "source": [
    "rohub.list_available_licenses()"
   ]
  },
  {
   "cell_type": "code",
   "execution_count": 24,
   "id": "b345ec1d-0045-4123-8bb6-01440b83166c",
   "metadata": {},
   "outputs": [
    {
     "data": {
      "text/plain": [
       "{'identifier': 'MIT',\n",
       " 'title': 'MIT License',\n",
       " 'description': 'MIT License',\n",
       " 'created': '2016-09-12T02:51:35.895509+00:00',\n",
       " 'updated': '2021-10-07T08:21:23.483114+00:00',\n",
       " 'creator': None,\n",
       " 'status': 'active',\n",
       " 'url': 'https://opensource.org/licenses/MIT',\n",
       " 'custom': False}"
      ]
     },
     "execution_count": 24,
     "metadata": {},
     "output_type": "execute_result"
    }
   ],
   "source": [
    "ro.set_license(license_id='MIT') "
   ]
  },
  {
   "cell_type": "markdown",
   "id": "b7e4b90f-f6df-47cd-a8f0-306a27e1e144",
   "metadata": {},
   "source": [
    "## Add Geometry\n",
    "- On which geographical region/area is your study?"
   ]
  },
  {
   "cell_type": "markdown",
   "id": "0b53942e-18e6-427c-9021-a00dc8662a9c",
   "metadata": {},
   "source": [
    "### Get geojson of your geographical area\n",
    "- go to https://geojson.io/ and create your geographical area. It does not have to be very precise, the most important is to provide information on the area of interest.\n",
    "- save the geographical area as GeoJSON or copy/past the content into a file called `map.geojson` and locate the file and move it in the same folder than this Jupyter notebook. \n",
    "- the default name is `map.geojson`. If you rename it, make sure to update the cell below with the right path and filename"
   ]
  },
  {
   "cell_type": "code",
   "execution_count": 25,
   "id": "4d28df4e-b041-412b-9397-9cccd590ace3",
   "metadata": {},
   "outputs": [
    {
     "data": {
      "text/plain": [
       "[{'identifier': '74eed3e4-6e6d-4187-832c-12a763046a63',\n",
       "  'shared_link': 'https://w3id.org/ro-id/4a7315ba-326c-402b-b2c9-f3667357b0bc/annotations/74eed3e4-6e6d-4187-832c-12a763046a63',\n",
       "  'name': 'annotations/74eed3e4-6e6d-4187-832c-12a763046a63',\n",
       "  'filename': '.ro/annotations/74eed3e4-6e6d-4187-832c-12a763046a63.ttl',\n",
       "  'relation': False,\n",
       "  'read_only': False,\n",
       "  'target': '4a7315ba-326c-402b-b2c9-f3667357b0bc',\n",
       "  'ro': '4a7315ba-326c-402b-b2c9-f3667357b0bc',\n",
       "  'resources': [],\n",
       "  'created': '2022-03-24T16:27:05.432832+0000',\n",
       "  'creator': 'annefou@geo.uio.no',\n",
       "  'modificator': None,\n",
       "  'modified': '2022-03-24T16:27:05.432762+0000',\n",
       "  'authors_credits': ['annefou@geo.uio.no'],\n",
       "  'contributors_credits': [],\n",
       "  'api_link': 'https://api.rohub.org/api/annotations/74eed3e4-6e6d-4187-832c-12a763046a63/'}]"
      ]
     },
     "execution_count": 25,
     "metadata": {},
     "output_type": "execute_result"
    }
   ],
   "source": [
    "ro.add_geolocation(body_specification_json='map.geojson')"
   ]
  },
  {
   "cell_type": "code",
   "execution_count": null,
   "id": "306e3a9d-513d-4f4a-9b10-1b77a8693727",
   "metadata": {},
   "outputs": [],
   "source": []
  }
 ],
 "metadata": {
  "kernelspec": {
   "display_name": "Python 3",
   "language": "python",
   "name": "python3"
  },
  "language_info": {
   "codemirror_mode": {
    "name": "ipython",
    "version": 3
   },
   "file_extension": ".py",
   "mimetype": "text/x-python",
   "name": "python",
   "nbconvert_exporter": "python",
   "pygments_lexer": "ipython3",
   "version": "3.8.8"
  }
 },
 "nbformat": 4,
 "nbformat_minor": 5
}
